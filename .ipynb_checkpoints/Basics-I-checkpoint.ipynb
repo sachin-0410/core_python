{
 "cells": [
  {
   "cell_type": "markdown",
   "id": "ff1394da",
   "metadata": {},
   "source": [
    "#### 1. Introduction to Python Data Types"
   ]
  },
  {
   "cell_type": "code",
   "execution_count": 1,
   "id": "4555ce79",
   "metadata": {},
   "outputs": [],
   "source": [
    "my_string = \"Hello World\""
   ]
  },
  {
   "cell_type": "code",
   "execution_count": 2,
   "id": "c699c561",
   "metadata": {},
   "outputs": [
    {
     "data": {
      "text/plain": [
       "'HloWrd'"
      ]
     },
     "execution_count": 2,
     "metadata": {},
     "output_type": "execute_result"
    }
   ],
   "source": [
    "my_string[::2]"
   ]
  },
  {
   "cell_type": "code",
   "execution_count": 3,
   "id": "4b413df6",
   "metadata": {},
   "outputs": [
    {
     "data": {
      "text/plain": [
       "'dooe'"
      ]
     },
     "execution_count": 3,
     "metadata": {},
     "output_type": "execute_result"
    }
   ],
   "source": [
    "my_string[::-3]"
   ]
  },
  {
   "cell_type": "code",
   "execution_count": 4,
   "id": "b205c1ec",
   "metadata": {},
   "outputs": [
    {
     "data": {
      "text/plain": [
       "'Pam'"
      ]
     },
     "execution_count": 4,
     "metadata": {},
     "output_type": "execute_result"
    }
   ],
   "source": [
    "name = \"Sam\"\n",
    "\n",
    "# name[0] = 'P' -- This assignment is not allowed. String immutability\n",
    "'P' + name[1:]"
   ]
  },
  {
   "cell_type": "code",
   "execution_count": 5,
   "id": "8b1daa74",
   "metadata": {},
   "outputs": [
    {
     "data": {
      "text/plain": [
       "'zzzzz'"
      ]
     },
     "execution_count": 5,
     "metadata": {},
     "output_type": "execute_result"
    }
   ],
   "source": [
    "letter = 'z'\n",
    "letter * 5"
   ]
  },
  {
   "cell_type": "code",
   "execution_count": 6,
   "id": "3d2ab73e",
   "metadata": {},
   "outputs": [
    {
     "data": {
      "text/plain": [
       "'25'"
      ]
     },
     "execution_count": 6,
     "metadata": {},
     "output_type": "execute_result"
    }
   ],
   "source": [
    "'2' + '5'"
   ]
  },
  {
   "cell_type": "code",
   "execution_count": 7,
   "id": "cc4d1240",
   "metadata": {},
   "outputs": [
    {
     "data": {
      "text/plain": [
       "['H', ' th', 's ', 's a str', 'ng']"
      ]
     },
     "execution_count": 7,
     "metadata": {},
     "output_type": "execute_result"
    }
   ],
   "source": [
    "x = 'Hi this is a string'\n",
    "x.split('i')"
   ]
  },
  {
   "cell_type": "code",
   "execution_count": 8,
   "id": "f35d2f7a",
   "metadata": {},
   "outputs": [
    {
     "name": "stdout",
     "output_type": "stream",
     "text": [
      "This is a string: INSERTED\n"
     ]
    }
   ],
   "source": [
    "print(\"This is a string: {}\".format(\"INSERTED\"))"
   ]
  },
  {
   "cell_type": "code",
   "execution_count": 9,
   "id": "ac4c9b3d",
   "metadata": {},
   "outputs": [
    {
     "name": "stdout",
     "output_type": "stream",
     "text": [
      "The quick brown fox\n",
      "The quick brown fox\n"
     ]
    }
   ],
   "source": [
    "print(\"The {2} {1} {0}\".format('fox', 'brown', 'quick'))\n",
    "print(\"The {q} {b} {f}\".format(f='fox', b='brown', q='quick'))"
   ]
  },
  {
   "cell_type": "code",
   "execution_count": 10,
   "id": "8a078e13",
   "metadata": {},
   "outputs": [
    {
     "name": "stdout",
     "output_type": "stream",
     "text": [
      "Result =0.129\n",
      "Result =     0.129\n"
     ]
    }
   ],
   "source": [
    "# Float formatting follows \"{value:width.precision f}\"\n",
    "\n",
    "result = 100/777\n",
    "print(\"Result ={r:1.3f}\".format(r=result))\n",
    "print(\"Result ={r:10.3f}\".format(r=result))"
   ]
  },
  {
   "cell_type": "code",
   "execution_count": 11,
   "id": "7c927ee6",
   "metadata": {},
   "outputs": [
    {
     "name": "stdout",
     "output_type": "stream",
     "text": [
      "Hello Sachin\n"
     ]
    }
   ],
   "source": [
    "name = 'Sachin'\n",
    "print(f'Hello {name}')"
   ]
  },
  {
   "cell_type": "code",
   "execution_count": 12,
   "id": "69bc841e",
   "metadata": {},
   "outputs": [
    {
     "name": "stdout",
     "output_type": "stream",
     "text": [
      "Length of list_C: 5\n",
      "Elements in list_C: ['one', 'two', 'ten', 'seven', 'three']\n",
      "\n",
      "Current Element in list_A: ['one', 'two', 'ten', 'seven']\n",
      "Assiging four to list_A first index. \n",
      "Elements in list_A: ['four', 'two', 'ten', 'seven']\n",
      "\n",
      "Current Element in list_A: ['four', 'two', 'ten', 'seven']\n",
      "Appending six to list_A. \n",
      "Elements in list_A: ['four', 'two', 'ten', 'seven', 'six']\n",
      "\n",
      "Current Element in list_A: ['four', 'two', 'ten', 'seven', 'six']\n",
      "Removing last element from list_A. \n",
      "Elements in list_A: ['four', 'two', 'ten', 'seven']\n",
      "\n",
      "Current Element in list_A: ['four', 'two', 'ten', 'seven']\n",
      "Removing second last element from list_A. \n",
      "Elements in list_A: ['four', 'two', 'seven']\n"
     ]
    }
   ],
   "source": [
    "# Lists are ordered sequences that can hold variety of object types\n",
    "\n",
    "\n",
    "\n",
    "list_A = ['one', 'two', 'ten', 'seven']\n",
    "list_B = ['three']\n",
    "list_C = list_A + list_B\n",
    "\n",
    "print(f\"Length of list_C: {len(list_C)}\")\n",
    "print(f\"Elements in list_C: {list_C}\")\n",
    "\n",
    "print(f'\\nCurrent Element in list_A: {list_A}')\n",
    "list_A[0] = 'four'\n",
    "print(f'Assiging four to list_A first index. \\nElements in list_A: {list_A}')\n",
    "\n",
    "print(f'\\nCurrent Element in list_A: {list_A}')\n",
    "list_A.append('six')\n",
    "print(f'Appending six to list_A. \\nElements in list_A: {list_A}')\n",
    "\n",
    "print(f'\\nCurrent Element in list_A: {list_A}')\n",
    "list_A.pop()\n",
    "print(f'Removing last element from list_A. \\nElements in list_A: {list_A}')\n",
    "\n",
    "print(f'\\nCurrent Element in list_A: {list_A}')\n",
    "list_A.pop(-2)\n",
    "print(f'Removing second last element from list_A. \\nElements in list_A: {list_A}')"
   ]
  },
  {
   "cell_type": "code",
   "execution_count": 13,
   "id": "e43a9a7f",
   "metadata": {},
   "outputs": [
    {
     "name": "stdout",
     "output_type": "stream",
     "text": [
      "Sorted new_list: ['a', 'b', 'c', 'e', 'x']\n",
      "Sorted num_list: [1, 2, 4, 6]\n",
      "Sorted rev_list: [2, 8, 0, -1]\n"
     ]
    }
   ],
   "source": [
    "new_list = ['a', 'e', 'x', 'b', 'c']\n",
    "num_list = [4, 1, 6, 2]\n",
    "rev_list = [-1, 0, 8, 2]\n",
    "\n",
    "# returns NoneType\n",
    "new_list.sort()\n",
    "num_list.sort()\n",
    "rev_list.reverse()\n",
    "\n",
    "print(f\"Sorted new_list: {new_list}\")\n",
    "print(f\"Sorted num_list: {num_list}\")\n",
    "print(f\"Sorted rev_list: {rev_list}\")"
   ]
  },
  {
   "cell_type": "code",
   "execution_count": 14,
   "id": "79d98a38",
   "metadata": {},
   "outputs": [
    {
     "name": "stdout",
     "output_type": "stream",
     "text": [
      "value1\n",
      "2\n",
      "100\n"
     ]
    }
   ],
   "source": [
    "# Dictionaries are unordered mappings for storing objects. It uses a key-value pairing.\n",
    "# {'key1': 'value1', 'key2': 'value2'}\n",
    "\n",
    "# Dictionaries are objects retrieved by key name. They are unordered and cannot be stored.\n",
    "# Lists are objects retrieved by location. They are ordered sequence which can indexed or sliced.\n",
    "\n",
    "\n",
    "\n",
    "my_dict = {'key1': 'value1', 'key2': 'value2'}\n",
    "print(my_dict['key1'])\n",
    "\n",
    "d = {'k1': 123, 'k2': [0, 1, 2], 'k3': {'inside_dict': 100}}\n",
    "print(d['k2'][2])\n",
    "print(d['k3']['inside_dict'])"
   ]
  },
  {
   "cell_type": "code",
   "execution_count": 15,
   "id": "fdf4a352",
   "metadata": {},
   "outputs": [
    {
     "name": "stdout",
     "output_type": "stream",
     "text": [
      "{'k1': 100, 'k2': 200, 'k3': 300}\n",
      "{'k1': 100, 'k2': 200, 'k3': 3000}\n",
      "dict_keys(['k1', 'k2', 'k3'])\n",
      "dict_values([100, 200, 3000])\n",
      "dict_items([('k1', 100), ('k2', 200), ('k3', 3000)])\n"
     ]
    }
   ],
   "source": [
    "new_dict = {'k1': 100, 'k2': 200}\n",
    "new_dict['k3'] = 300\n",
    "print(new_dict)\n",
    "\n",
    "new_dict['k3'] = 3000\n",
    "print(new_dict)\n",
    "\n",
    "print(new_dict.keys())\n",
    "print(new_dict.values())\n",
    "print(new_dict.items())"
   ]
  },
  {
   "cell_type": "code",
   "execution_count": 16,
   "id": "2c81d01c",
   "metadata": {},
   "outputs": [
    {
     "name": "stdout",
     "output_type": "stream",
     "text": [
      "3\n",
      "0\n"
     ]
    }
   ],
   "source": [
    "# Tuples are similar to list BUT they are IMMUTABLE.\n",
    "# Once an element is assigned inside a tuple, it cannot be reassigned.\n",
    "\n",
    "\n",
    "\n",
    "t = ('a', 'a', 'a', 'b', 'c')\n",
    "print(t.count('a'))\n",
    "print(t.index('a')) # First Occurence"
   ]
  },
  {
   "cell_type": "code",
   "execution_count": 17,
   "id": "139e3339",
   "metadata": {},
   "outputs": [
    {
     "name": "stdout",
     "output_type": "stream",
     "text": [
      "set()\n",
      "{1}\n",
      "{1, 2}\n"
     ]
    }
   ],
   "source": [
    "# Sets are unordered collections of unique elements. \n",
    "\n",
    "\n",
    "\n",
    "my_set = set()\n",
    "print(my_set)\n",
    "\n",
    "my_set.add(1)\n",
    "print(my_set)\n",
    "\n",
    "my_set.add(2)\n",
    "print(my_set)"
   ]
  },
  {
   "cell_type": "code",
   "execution_count": 18,
   "id": "a410df5c",
   "metadata": {},
   "outputs": [
    {
     "name": "stdout",
     "output_type": "stream",
     "text": [
      "[1, 1, 1, 'a', 'a', 'A', 2, '', '', ' ', ' ', ' ']\n",
      "{'', 1, 2, ' ', 'a', 'A'}\n"
     ]
    }
   ],
   "source": [
    "my_list = [1, 1, 1, 'a', 'a', 'A', 2, '', '', ' ', ' ', ' ']\n",
    "print(my_list)\n",
    "\n",
    "my_set = set(my_list)\n",
    "print(my_set)"
   ]
  },
  {
   "cell_type": "code",
   "execution_count": 19,
   "id": "afdc0821",
   "metadata": {},
   "outputs": [
    {
     "data": {
      "text/plain": [
       "{'M', 'i', 'p', 's'}"
      ]
     },
     "execution_count": 19,
     "metadata": {},
     "output_type": "execute_result"
    }
   ],
   "source": [
    "set('Mississippi')"
   ]
  },
  {
   "cell_type": "code",
   "execution_count": 20,
   "id": "84189145",
   "metadata": {},
   "outputs": [
    {
     "name": "stdout",
     "output_type": "stream",
     "text": [
      "None\n"
     ]
    }
   ],
   "source": [
    "b = None\n",
    "print(b)"
   ]
  },
  {
   "cell_type": "code",
   "execution_count": 21,
   "id": "9451fbac",
   "metadata": {},
   "outputs": [
    {
     "name": "stdout",
     "output_type": "stream",
     "text": [
      "Overwriting file1.txt\n"
     ]
    }
   ],
   "source": [
    "%%writefile file1.txt\n",
    "Hello. This is a text file.\n",
    "This is the first line.\n",
    "This is the second line.\n",
    "This is the third line."
   ]
  },
  {
   "cell_type": "code",
   "execution_count": 22,
   "id": "ad0b064d",
   "metadata": {},
   "outputs": [],
   "source": [
    "file1 = open('file1.txt')"
   ]
  },
  {
   "cell_type": "code",
   "execution_count": 23,
   "id": "6587a6f1",
   "metadata": {},
   "outputs": [
    {
     "data": {
      "text/plain": [
       "'Hello. This is a text file.\\nThis is the first line.\\nThis is the second line.\\nThis is the third line.\\n'"
      ]
     },
     "execution_count": 23,
     "metadata": {},
     "output_type": "execute_result"
    }
   ],
   "source": [
    "file1.read()"
   ]
  },
  {
   "cell_type": "code",
   "execution_count": 24,
   "id": "e2e0ada0",
   "metadata": {},
   "outputs": [
    {
     "data": {
      "text/plain": [
       "''"
      ]
     },
     "execution_count": 24,
     "metadata": {},
     "output_type": "execute_result"
    }
   ],
   "source": [
    "file1.read() #Reset the cursor."
   ]
  },
  {
   "cell_type": "code",
   "execution_count": 25,
   "id": "9112a219",
   "metadata": {},
   "outputs": [
    {
     "data": {
      "text/plain": [
       "['Hello. This is a text file.\\n',\n",
       " 'This is the first line.\\n',\n",
       " 'This is the second line.\\n',\n",
       " 'This is the third line.\\n']"
      ]
     },
     "execution_count": 25,
     "metadata": {},
     "output_type": "execute_result"
    }
   ],
   "source": [
    "file1.seek(0)\n",
    "file1.readlines()"
   ]
  },
  {
   "cell_type": "code",
   "execution_count": 26,
   "id": "3bd955e2",
   "metadata": {},
   "outputs": [],
   "source": [
    "file1.close()"
   ]
  },
  {
   "cell_type": "code",
   "execution_count": 27,
   "id": "bc94a127",
   "metadata": {},
   "outputs": [
    {
     "data": {
      "text/plain": [
       "['Hello. This is a text file.\\n',\n",
       " 'This is the first line.\\n',\n",
       " 'This is the second line.\\n',\n",
       " 'This is the third line.\\n']"
      ]
     },
     "execution_count": 27,
     "metadata": {},
     "output_type": "execute_result"
    }
   ],
   "source": [
    "with open('file1.txt') as f:\n",
    "    contents = f.readlines()\n",
    "    \n",
    "contents"
   ]
  },
  {
   "cell_type": "code",
   "execution_count": 28,
   "id": "0544fa81",
   "metadata": {},
   "outputs": [
    {
     "name": "stdout",
     "output_type": "stream",
     "text": [
      "Hello. This is a text file.\n",
      "This is the first line.\n",
      "This is the second line.\n",
      "This is the third line.\n",
      "\n"
     ]
    }
   ],
   "source": [
    "with open('file1.txt', mode = 'r') as f:\n",
    "    print(f.read())"
   ]
  },
  {
   "cell_type": "code",
   "execution_count": 29,
   "id": "6d1bf7f0",
   "metadata": {},
   "outputs": [
    {
     "name": "stdout",
     "output_type": "stream",
     "text": [
      "Hello. This is a text file.\n",
      "This is the first line.\n",
      "This is the second line.\n",
      "This is the third line.\n",
      "This is the fourth line.\n"
     ]
    }
   ],
   "source": [
    "with open('file1.txt', mode = 'a') as f:\n",
    "    f.write('This is the fourth line.')\n",
    "    \n",
    "with open('file1.txt', mode = 'r') as f:\n",
    "    print(f.read())"
   ]
  },
  {
   "cell_type": "code",
   "execution_count": 30,
   "id": "b937a658",
   "metadata": {},
   "outputs": [],
   "source": [
    "with open('file2.txt', mode='w') as f:\n",
    "    f.write('Second File created')"
   ]
  },
  {
   "cell_type": "code",
   "execution_count": 31,
   "id": "2d8c193f",
   "metadata": {},
   "outputs": [
    {
     "name": "stdout",
     "output_type": "stream",
     "text": [
      "Second File created\n"
     ]
    }
   ],
   "source": [
    "with open('file2.txt', mode = 'r') as f:\n",
    "    print(f.read())"
   ]
  },
  {
   "cell_type": "markdown",
   "id": "43dafc06",
   "metadata": {},
   "source": [
    "#### 6.Methods and Functions"
   ]
  },
  {
   "cell_type": "code",
   "execution_count": 32,
   "id": "4985499b",
   "metadata": {},
   "outputs": [
    {
     "name": "stdout",
     "output_type": "stream",
     "text": [
      "False\n"
     ]
    }
   ],
   "source": [
    "def check_even_list(num_list):\n",
    "    for number in num_list:\n",
    "        if number%2 == 0:\n",
    "            return True\n",
    "        else:\n",
    "            pass\n",
    "        \n",
    "    return False\n",
    "\n",
    "print(check_even_list([1, 9, 5]))"
   ]
  },
  {
   "cell_type": "code",
   "execution_count": 33,
   "id": "f4ab4389",
   "metadata": {},
   "outputs": [
    {
     "name": "stdout",
     "output_type": "stream",
     "text": [
      "apple price 100\n",
      "banana price 200\n",
      "orange price 300\n"
     ]
    }
   ],
   "source": [
    "fruit_price = [('apple', 100), ('banana', 200), ('orange', 300)]\n",
    "\n",
    "# Tuple Unpacking\n",
    "for fruit, price in fruit_price:\n",
    "    print(f'{fruit} price {price}')"
   ]
  },
  {
   "cell_type": "code",
   "execution_count": 34,
   "id": "b9938447",
   "metadata": {},
   "outputs": [
    {
     "name": "stdout",
     "output_type": "stream",
     "text": [
      "phil worked for 70 hours\n"
     ]
    }
   ],
   "source": [
    "work_hours = [('sam', 56), ('adam', 63), ('eve', 42), ('phil', 70)]\n",
    "\n",
    "def employee_check(work_hours):\n",
    "    max_hours = 0\n",
    "    emp_max_hours = ''\n",
    "    \n",
    "    for emp, hours in work_hours:\n",
    "        if hours > max_hours:\n",
    "            max_hours = hours\n",
    "            emp_max_hours = emp\n",
    "        else:\n",
    "            pass\n",
    "            \n",
    "    return (emp_max_hours, max_hours)\n",
    "\n",
    "name, hours = employee_check(work_hours)\n",
    "print(f'{name} worked for {hours} hours')"
   ]
  },
  {
   "cell_type": "code",
   "execution_count": 35,
   "id": "ef329821",
   "metadata": {},
   "outputs": [
    {
     "name": "stdout",
     "output_type": "stream",
     "text": [
      "[' ', 'O', ' ']\n",
      "Pick a number: 0, 1 or 2 :: 0\n",
      "Incorrect Guess!\n",
      "Pick a number: 0, 1 or 2 :: 0\n",
      "Incorrect Guess!\n",
      "Pick a number: 0, 1 or 2 :: 1\n",
      "Correct Guess!\n",
      "Correct Guess found in 3 attempts!\n"
     ]
    }
   ],
   "source": [
    "from random import shuffle\n",
    "my_list = [' ', 'O', ' ']\n",
    "shuffle(my_list)\n",
    "\n",
    "print(my_list)\n",
    "\n",
    "def player_guess():\n",
    "    guess = ''\n",
    "    while guess not in ['0', '1', '2']:\n",
    "        guess = input(\"Pick a number: 0, 1 or 2 :: \")\n",
    "        \n",
    "    return int(guess)\n",
    "\n",
    "\n",
    "counter = 1\n",
    "\n",
    "def check_guess(my_list, guess):\n",
    "    if my_list[guess] == 'O':\n",
    "        print(\"Correct Guess!\")\n",
    "        return 1\n",
    "    else:\n",
    "        print(\"Incorrect Guess!\")\n",
    "        return 0\n",
    "\n",
    "result = check_guess(my_list, player_guess())\n",
    "while result != 1:\n",
    "    counter = counter + 1\n",
    "    result = check_guess(my_list, player_guess())\n",
    "\n",
    "print(f'Correct Guess found in {counter} attempts!')"
   ]
  },
  {
   "cell_type": "code",
   "execution_count": 39,
   "id": "7a216d91",
   "metadata": {},
   "outputs": [
    {
     "name": "stdout",
     "output_type": "stream",
     "text": [
      "5.0\n",
      "10.0\n"
     ]
    }
   ],
   "source": [
    "def funcA(*args):\n",
    "    return sum(args) * 0.05\n",
    "\n",
    "print(funcA(40, 60))\n",
    "print(funcA(40, 60, 100))"
   ]
  },
  {
   "cell_type": "code",
   "execution_count": 42,
   "id": "5873c2d5",
   "metadata": {},
   "outputs": [
    {
     "name": "stdout",
     "output_type": "stream",
     "text": [
      "{'fruit': 'apple', 'vegetable': 'lettuce'}\n",
      "Fruit: apple\n"
     ]
    }
   ],
   "source": [
    "def funcB(**kwargs):\n",
    "    print(kwargs)\n",
    "    if 'fruit' in kwargs:\n",
    "        print(f'Fruit: {kwargs[\"fruit\"]}')\n",
    "    else:\n",
    "        print('No Fruit present!')\n",
    "\n",
    "funcB(fruit='apple', vegetable='lettuce')"
   ]
  },
  {
   "cell_type": "code",
   "execution_count": 45,
   "id": "5fea51f8",
   "metadata": {},
   "outputs": [
    {
     "name": "stdout",
     "output_type": "stream",
     "text": [
      "I would like to have 1 egg\n"
     ]
    }
   ],
   "source": [
    "# Positional argument cannot be after keyword argument\n",
    "\n",
    "def funcC(*args, **kwargs):\n",
    "    print(f\"I would like to have {args[0]} {kwargs['food']}\")\n",
    "    \n",
    "funcC(1,2,3,fruit='apple', food='egg')"
   ]
  }
 ],
 "metadata": {
  "kernelspec": {
   "display_name": "Python 3",
   "language": "python",
   "name": "python3"
  },
  "language_info": {
   "codemirror_mode": {
    "name": "ipython",
    "version": 3
   },
   "file_extension": ".py",
   "mimetype": "text/x-python",
   "name": "python",
   "nbconvert_exporter": "python",
   "pygments_lexer": "ipython3",
   "version": "3.8.8"
  }
 },
 "nbformat": 4,
 "nbformat_minor": 5
}
