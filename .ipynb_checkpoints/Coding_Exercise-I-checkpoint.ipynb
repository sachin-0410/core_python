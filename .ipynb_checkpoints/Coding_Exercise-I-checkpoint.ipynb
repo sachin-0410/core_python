{
 "cells": [
  {
   "cell_type": "code",
   "execution_count": 1,
   "id": "87f69520",
   "metadata": {},
   "outputs": [
    {
     "name": "stdout",
     "output_type": "stream",
     "text": [
      "Original Word: Anthropomorphism\n",
      "New Word: aNtHrOpOmOrPhIsM\n"
     ]
    }
   ],
   "source": [
    "# 1. Every even letter is uppercase and odd letter is lowercase.\n",
    "word = 'Anthropomorphism'\n",
    "count = 1\n",
    "new_word =''\n",
    "\n",
    "print(f'Original Word: {word}')\n",
    "\n",
    "for letter in word:\n",
    "    if count % 2 == 0:\n",
    "        new_word = new_word + letter.upper()\n",
    "    else:\n",
    "        new_word = new_word + letter.lower()\n",
    "    \n",
    "    count = count + 1\n",
    "\n",
    "print(f'New Word: {new_word}')"
   ]
  },
  {
   "cell_type": "code",
   "execution_count": 2,
   "id": "c85468ee",
   "metadata": {},
   "outputs": [
    {
     "name": "stdout",
     "output_type": "stream",
     "text": [
      "3\n",
      "2\n"
     ]
    }
   ],
   "source": [
    "# 2. Write a function that returns the lesser of two given numbers if both numbers are even, \n",
    "#   but returns the greater if one or both numbers are odd\n",
    "\n",
    "def lesser_of_two_evens(numA, numB):\n",
    "    if numA % 2 == 0 and numB % 2 == 0:\n",
    "        return min(numA, numB)\n",
    "    else:\n",
    "        return max(numA, numB)\n",
    "    \n",
    "print(lesser_of_two_evens(2, 3))\n",
    "print(lesser_of_two_evens(2, 4))"
   ]
  },
  {
   "cell_type": "code",
   "execution_count": 3,
   "id": "8d039028",
   "metadata": {},
   "outputs": [
    {
     "name": "stdout",
     "output_type": "stream",
     "text": [
      "False\n",
      "True\n"
     ]
    }
   ],
   "source": [
    "# 3. Write a function takes a two-word string and returns True if both words begin with same letter\n",
    "#    animal_crackers('Levelheaded Llama') --> True\n",
    "#    animal_crackers('Crazy Kangaroo') --> False\n",
    "\n",
    "def animal_crackers(word):\n",
    "    return word.split()[0][0] == word.split()[1][0]\n",
    "\n",
    "print(animal_crackers('Crazy Kangaroo'))\n",
    "print(animal_crackers('Levelheaded Llama'))"
   ]
  },
  {
   "cell_type": "code",
   "execution_count": 4,
   "id": "f8ba4559",
   "metadata": {},
   "outputs": [
    {
     "data": {
      "text/plain": [
       "False"
      ]
     },
     "execution_count": 4,
     "metadata": {},
     "output_type": "execute_result"
    }
   ],
   "source": [
    "# 4. Given two integers, return True if the sum of the integers is 20 or if one of the integers is 20. If not, return False\n",
    "def makes_twenty(n1, n2):\n",
    "    return (n1+n2)==20 or n1==20 or n2==20\n",
    "\n",
    "makes_twenty(30, 30)"
   ]
  },
  {
   "cell_type": "code",
   "execution_count": 5,
   "id": "1cf9ddeb",
   "metadata": {},
   "outputs": [
    {
     "name": "stdout",
     "output_type": "stream",
     "text": [
      "Original: macdonald. Output: MacDonald\n",
      "Original: sachin. Output: SacHin\n",
      "Original: May. Output: Name is too short\n"
     ]
    }
   ],
   "source": [
    "# 5. Write a function that capitalizes the first and fourth letters of a name\n",
    "def name_cap(word):\n",
    "    if len(word) > 3:\n",
    "        return word[:3].capitalize() + word[3:].capitalize()\n",
    "    else:\n",
    "        return 'Name is too short'\n",
    "\n",
    "print(f\"Original: macdonald. Output: {name_cap('macdonald')}\")\n",
    "print(f\"Original: sachin. Output: {name_cap('sachin')}\")\n",
    "print(f\"Original: May. Output: {name_cap('May')}\")"
   ]
  },
  {
   "cell_type": "code",
   "execution_count": 6,
   "id": "30aebde0",
   "metadata": {},
   "outputs": [
    {
     "name": "stdout",
     "output_type": "stream",
     "text": [
      "home am I\n",
      "ready are We\n"
     ]
    }
   ],
   "source": [
    "# 6. Given a sentence, return a sentence with the words reversed\n",
    "#    master_yoda('I am home') --> 'home am I'\n",
    "#    master_yoda('We are ready') --> 'ready are We'\n",
    "\n",
    "def master_yoda(word):\n",
    "    return ' '.join(word.split()[::-1])\n",
    "\n",
    "print(master_yoda('I am home'))\n",
    "print(master_yoda('We are ready'))"
   ]
  },
  {
   "cell_type": "code",
   "execution_count": 7,
   "id": "b53f5210",
   "metadata": {},
   "outputs": [],
   "source": [
    "# 7. Given an integer n, return True if n is within 10 of either 100 or 200\n",
    "#    almost_there(90) --> True\n",
    "#    almost_there(104) --> True\n",
    "#    almost_there(150) --> False\n",
    "#    almost_there(209) --> True\n",
    "\n",
    "def almost_there(n):\n",
    "    return ((abs(100 - n) <= 10) or (abs(200 - n) <= 10))"
   ]
  },
  {
   "cell_type": "code",
   "execution_count": 8,
   "id": "c25cbec7",
   "metadata": {},
   "outputs": [
    {
     "name": "stdout",
     "output_type": "stream",
     "text": [
      "HHHeeellllllooo\n",
      "MMMiiissssssiiissssssiiippppppiii\n"
     ]
    }
   ],
   "source": [
    "# 9. Given a string, return a string where for every character in the original there are three characters\n",
    "#    paper_doll('Hello') --> 'HHHeeellllllooo'\n",
    "#    paper_doll('Mississippi') --> 'MMMiiissssssiiippppppiii'\n",
    "\n",
    "def paper_doll(word):\n",
    "    new_word = ''\n",
    "    for i in word:\n",
    "        new_word = new_word + (i*3)\n",
    "    \n",
    "    return new_word\n",
    "\n",
    "print(paper_doll('Hello'))\n",
    "print(paper_doll('Mississippi'))"
   ]
  },
  {
   "cell_type": "code",
   "execution_count": 9,
   "id": "78b3a50c",
   "metadata": {},
   "outputs": [
    {
     "name": "stdout",
     "output_type": "stream",
     "text": [
      "18\n",
      "BUST\n",
      "19\n"
     ]
    }
   ],
   "source": [
    "# 10. Given three integers between 1 and 11, if their sum is less than or equal to 21, return their sum. \n",
    "#     If their sum exceeds 21 and there's an eleven, reduce the total sum by 10. \n",
    "#     Finally, if the sum (even after adjustment) exceeds 21, return 'BUST'\n",
    "\n",
    "# blackjack(5,6,7) --> 18\n",
    "# blackjack(9,9,9) --> 'BUST'\n",
    "# blackjack(9,9,11) --> 19\n",
    "\n",
    "def blackjack(n1, n2, n3):\n",
    "    if sum((n1, n2, n3)) <= 21:\n",
    "        return sum((n1, n2, n3))\n",
    "    elif sum((n1, n2, n3)) > 21 and 11 in (n1, n2, n3):\n",
    "        return sum((n1, n2, n3))-10\n",
    "    else:\n",
    "        return 'BUST'\n",
    "    \n",
    "print(blackjack(5,6,7))\n",
    "print(blackjack(9,9,9))\n",
    "print(blackjack(9,9,11))"
   ]
  },
  {
   "cell_type": "code",
   "execution_count": 10,
   "id": "f134527a",
   "metadata": {},
   "outputs": [
    {
     "name": "stdout",
     "output_type": "stream",
     "text": [
      "Prime number\n"
     ]
    }
   ],
   "source": [
    "# 11. Check if a number is prime\n",
    "from math import sqrt\n",
    "\n",
    "def prime_check(num):\n",
    "    if num>1:\n",
    "        for i in range(2, int(num/2)+1):\n",
    "            if num%i == 0:\n",
    "                print(\"Not a Prime number\")\n",
    "                break\n",
    "        else:\n",
    "            print(\"Prime number\")\n",
    "\n",
    "    else:\n",
    "        print(\"Not a Prime number\")\n",
    "        \n",
    "        \n",
    "prime_check(19)"
   ]
  }
 ],
 "metadata": {
  "kernelspec": {
   "display_name": "Python 3",
   "language": "python",
   "name": "python3"
  },
  "language_info": {
   "codemirror_mode": {
    "name": "ipython",
    "version": 3
   },
   "file_extension": ".py",
   "mimetype": "text/x-python",
   "name": "python",
   "nbconvert_exporter": "python",
   "pygments_lexer": "ipython3",
   "version": "3.8.8"
  }
 },
 "nbformat": 4,
 "nbformat_minor": 5
}
