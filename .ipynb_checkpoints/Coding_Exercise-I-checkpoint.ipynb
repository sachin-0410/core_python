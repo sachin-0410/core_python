{
 "cells": [
  {
   "cell_type": "code",
   "execution_count": 1,
   "id": "85ab1f95",
   "metadata": {},
   "outputs": [
    {
     "name": "stdout",
     "output_type": "stream",
     "text": [
      "Original Word: Anthropomorphism\n",
      "New Word: aNtHrOpOmOrPhIsM\n"
     ]
    }
   ],
   "source": [
    "# 1. Every even letter is uppercase and odd letter is lowercase.\n",
    "word = 'Anthropomorphism'\n",
    "count = 1\n",
    "new_word =''\n",
    "\n",
    "print(f'Original Word: {word}')\n",
    "\n",
    "for letter in word:\n",
    "    if count % 2 == 0:\n",
    "        new_word = new_word + letter.upper()\n",
    "    else:\n",
    "        new_word = new_word + letter.lower()\n",
    "    \n",
    "    count = count + 1\n",
    "\n",
    "print(f'New Word: {new_word}')"
   ]
  },
  {
   "cell_type": "code",
   "execution_count": 2,
   "id": "f56469c1",
   "metadata": {},
   "outputs": [
    {
     "name": "stdout",
     "output_type": "stream",
     "text": [
      "3\n",
      "2\n"
     ]
    }
   ],
   "source": [
    "# 2. Write a function that returns the lesser of two given numbers if both numbers are even, \n",
    "#   but returns the greater if one or both numbers are odd\n",
    "\n",
    "def lesser_of_two_evens(numA, numB):\n",
    "    if numA % 2 == 0 and numB % 2 == 0:\n",
    "        return min(numA, numB)\n",
    "    else:\n",
    "        return max(numA, numB)\n",
    "    \n",
    "print(lesser_of_two_evens(2, 3))\n",
    "print(lesser_of_two_evens(2, 4))"
   ]
  },
  {
   "cell_type": "code",
   "execution_count": 3,
   "id": "819edfd8",
   "metadata": {},
   "outputs": [
    {
     "name": "stdout",
     "output_type": "stream",
     "text": [
      "False\n",
      "True\n"
     ]
    }
   ],
   "source": [
    "# 3. Write a function takes a two-word string and returns True if both words begin with same letter\n",
    "#    animal_crackers('Levelheaded Llama') --> True\n",
    "#    animal_crackers('Crazy Kangaroo') --> False\n",
    "\n",
    "def animal_crackers(word):\n",
    "    return word.split()[0][0] == word.split()[1][0]\n",
    "\n",
    "print(animal_crackers('Crazy Kangaroo'))\n",
    "print(animal_crackers('Levelheaded Llama'))"
   ]
  },
  {
   "cell_type": "code",
   "execution_count": 4,
   "id": "71e1df38",
   "metadata": {},
   "outputs": [
    {
     "data": {
      "text/plain": [
       "False"
      ]
     },
     "execution_count": 4,
     "metadata": {},
     "output_type": "execute_result"
    }
   ],
   "source": [
    "# 4. Given two integers, return True if the sum of the integers is 20 or if one of the integers is 20. If not, return False\n",
    "def makes_twenty(n1, n2):\n",
    "    return (n1+n2)==20 or n1==20 or n2==20\n",
    "\n",
    "makes_twenty(30, 30)"
   ]
  },
  {
   "cell_type": "code",
   "execution_count": 5,
   "id": "dd287ac0",
   "metadata": {},
   "outputs": [
    {
     "name": "stdout",
     "output_type": "stream",
     "text": [
      "Original: macdonald. Output: MacDonald\n",
      "Original: sachin. Output: SacHin\n",
      "Original: May. Output: Name is too short\n"
     ]
    }
   ],
   "source": [
    "# 5. Write a function that capitalizes the first and fourth letters of a name\n",
    "def name_cap(word):\n",
    "    if len(word) > 3:\n",
    "        return word[:3].capitalize() + word[3:].capitalize()\n",
    "    else:\n",
    "        return 'Name is too short'\n",
    "\n",
    "print(f\"Original: macdonald. Output: {name_cap('macdonald')}\")\n",
    "print(f\"Original: sachin. Output: {name_cap('sachin')}\")\n",
    "print(f\"Original: May. Output: {name_cap('May')}\")"
   ]
  },
  {
   "cell_type": "code",
   "execution_count": 6,
   "id": "a5785800",
   "metadata": {},
   "outputs": [
    {
     "name": "stdout",
     "output_type": "stream",
     "text": [
      "home am I\n",
      "ready are We\n"
     ]
    }
   ],
   "source": [
    "# 6. Given a sentence, return a sentence with the words reversed\n",
    "#    master_yoda('I am home') --> 'home am I'\n",
    "#    master_yoda('We are ready') --> 'ready are We'\n",
    "\n",
    "def master_yoda(word):\n",
    "    return ' '.join(word.split()[::-1])\n",
    "\n",
    "print(master_yoda('I am home'))\n",
    "print(master_yoda('We are ready'))"
   ]
  },
  {
   "cell_type": "code",
   "execution_count": 7,
   "id": "e6892472",
   "metadata": {},
   "outputs": [],
   "source": [
    "# 7. Given an integer n, return True if n is within 10 of either 100 or 200\n",
    "#    almost_there(90) --> True\n",
    "#    almost_there(104) --> True\n",
    "#    almost_there(150) --> False\n",
    "#    almost_there(209) --> True\n",
    "\n",
    "def almost_there(n):\n",
    "    return ((abs(100 - n) <= 10) or (abs(200 - n) <= 10))"
   ]
  },
  {
   "cell_type": "code",
   "execution_count": 8,
   "id": "083c89f4",
   "metadata": {},
   "outputs": [
    {
     "name": "stdout",
     "output_type": "stream",
     "text": [
      "HHHeeellllllooo\n",
      "MMMiiissssssiiissssssiiippppppiii\n"
     ]
    }
   ],
   "source": [
    "# 9. Given a string, return a string where for every character in the original there are three characters\n",
    "#    paper_doll('Hello') --> 'HHHeeellllllooo'\n",
    "#    paper_doll('Mississippi') --> 'MMMiiissssssiiippppppiii'\n",
    "\n",
    "def paper_doll(word):\n",
    "    new_word = ''\n",
    "    for i in word:\n",
    "        new_word = new_word + (i*3)\n",
    "    \n",
    "    return new_word\n",
    "\n",
    "print(paper_doll('Hello'))\n",
    "print(paper_doll('Mississippi'))"
   ]
  },
  {
   "cell_type": "code",
   "execution_count": 9,
   "id": "5a9e39b0",
   "metadata": {},
   "outputs": [
    {
     "name": "stdout",
     "output_type": "stream",
     "text": [
      "18\n",
      "BUST\n",
      "19\n"
     ]
    }
   ],
   "source": [
    "# 10. Given three integers between 1 and 11, if their sum is less than or equal to 21, return their sum. \n",
    "#     If their sum exceeds 21 and there's an eleven, reduce the total sum by 10. \n",
    "#     Finally, if the sum (even after adjustment) exceeds 21, return 'BUST'\n",
    "\n",
    "# blackjack(5,6,7) --> 18\n",
    "# blackjack(9,9,9) --> 'BUST'\n",
    "# blackjack(9,9,11) --> 19\n",
    "\n",
    "def blackjack(n1, n2, n3):\n",
    "    if sum((n1, n2, n3)) <= 21:\n",
    "        return sum((n1, n2, n3))\n",
    "    elif sum((n1, n2, n3)) > 21 and 11 in (n1, n2, n3):\n",
    "        return sum((n1, n2, n3))-10\n",
    "    else:\n",
    "        return 'BUST'\n",
    "    \n",
    "print(blackjack(5,6,7))\n",
    "print(blackjack(9,9,9))\n",
    "print(blackjack(9,9,11))"
   ]
  },
  {
   "cell_type": "code",
   "execution_count": 10,
   "id": "b0d245d6",
   "metadata": {},
   "outputs": [
    {
     "name": "stdout",
     "output_type": "stream",
     "text": [
      "Prime number\n"
     ]
    }
   ],
   "source": [
    "# 11. Check if a number is prime\n",
    "from math import sqrt\n",
    "\n",
    "def prime_check(num):\n",
    "    if num>1:\n",
    "        for i in range(2, int(num/2)+1):\n",
    "            if num%i == 0:\n",
    "                print(\"Not a Prime number\")\n",
    "                break\n",
    "        else:\n",
    "            print(\"Prime number\")\n",
    "\n",
    "    else:\n",
    "        print(\"Not a Prime number\")\n",
    "        \n",
    "        \n",
    "prime_check(19)"
   ]
  },
  {
   "cell_type": "code",
   "execution_count": 11,
   "id": "ee363b3b",
   "metadata": {},
   "outputs": [
    {
     "name": "stdout",
     "output_type": "stream",
     "text": [
      "5 is in range between 2 and 7\n"
     ]
    }
   ],
   "source": [
    "# 12. Write a function that checks whether a number is in a given range (inclusive of high and low)\n",
    "def num_check(num, low, high):\n",
    "    if num in range(low, high+1):\n",
    "        print(f\"{num} is in range between {low} and {high}\")\n",
    "    else:\n",
    "        print(f\"{num} is NOT in range between {low} and {high}\")\n",
    "        \n",
    "\n",
    "num_check(5, 2, 7)"
   ]
  },
  {
   "cell_type": "code",
   "execution_count": 12,
   "id": "284cd650",
   "metadata": {},
   "outputs": [
    {
     "name": "stdout",
     "output_type": "stream",
     "text": [
      "Number of Uppercase Letter:4\n",
      "Number of Lowercase Letter:33\n"
     ]
    }
   ],
   "source": [
    "# 13. Write a Python function that accepts a string and calculates the number of upper case letters and lower case letters.\n",
    "my_dict = {'upper': 0, 'lower': 0}\n",
    "def case_check(word):\n",
    "    for letter in word:\n",
    "        if letter.isupper():\n",
    "            my_dict['upper'] = my_dict['upper'] + 1\n",
    "        elif letter.islower():\n",
    "            my_dict['lower'] = my_dict['lower'] + 1\n",
    "            \n",
    "    print(f\"Number of Uppercase Letter:{my_dict['upper']}\\nNumber of Lowercase Letter:{my_dict['lower']}\")\n",
    "    \n",
    "\n",
    "case_check('Hello Mr. Rogers, how are you this fine Tuesday?')"
   ]
  },
  {
   "cell_type": "code",
   "execution_count": 13,
   "id": "f5d16a15",
   "metadata": {},
   "outputs": [
    {
     "data": {
      "text/plain": [
       "24"
      ]
     },
     "execution_count": 13,
     "metadata": {},
     "output_type": "execute_result"
    }
   ],
   "source": [
    "# 14. Write a Python function to multiply all the numbers in a list.\n",
    "from functools import reduce\n",
    "reduce(lambda x,y: x*y, [1,2,3,4])"
   ]
  },
  {
   "cell_type": "code",
   "execution_count": 14,
   "id": "66a7d224",
   "metadata": {},
   "outputs": [
    {
     "data": {
      "text/plain": [
       "15"
      ]
     },
     "execution_count": 14,
     "metadata": {},
     "output_type": "execute_result"
    }
   ],
   "source": [
    "# 15. Write a Python function to sum all the numbers in a list.\n",
    "from functools import reduce\n",
    "reduce(lambda x,y: x+y, [1,2,3,4,5])"
   ]
  },
  {
   "cell_type": "code",
   "execution_count": 15,
   "id": "8cea8f59",
   "metadata": {},
   "outputs": [
    {
     "name": "stdout",
     "output_type": "stream",
     "text": [
      "Maximum Element from the list [1,2,3,4,5] is: 5\n"
     ]
    }
   ],
   "source": [
    "# 16. Write a Python function to get maximum element from a list.\n",
    "from functools import reduce\n",
    "print(\"Maximum Element from the list [1,2,3,4,5] is: \", end=\"\")\n",
    "print(reduce(lambda x,y: x if x>y else y, [1,2,3,4,5]))"
   ]
  },
  {
   "cell_type": "code",
   "execution_count": 16,
   "id": "a643eb94",
   "metadata": {},
   "outputs": [
    {
     "name": "stdout",
     "output_type": "stream",
     "text": [
      "'nurses run' is palindrome: True\n",
      "'abcba' is palindrome: True\n"
     ]
    }
   ],
   "source": [
    "# 17. Write a Python function that checks whether a word or phrase is palindrome or not\n",
    "def palindrome_check(word):\n",
    "    word = word.replace(' ', '')\n",
    "    return word[::-1]==word\n",
    "\n",
    "print(f\"'nurses run' is palindrome: {palindrome_check('nurses run')}\")\n",
    "print(f\"'abcba' is palindrome: {palindrome_check('abcba')}\")"
   ]
  }
 ],
 "metadata": {
  "kernelspec": {
   "display_name": "Python 3",
   "language": "python",
   "name": "python3"
  },
  "language_info": {
   "codemirror_mode": {
    "name": "ipython",
    "version": 3
   },
   "file_extension": ".py",
   "mimetype": "text/x-python",
   "name": "python",
   "nbconvert_exporter": "python",
   "pygments_lexer": "ipython3",
   "version": "3.8.8"
  }
 },
 "nbformat": 4,
 "nbformat_minor": 5
}
