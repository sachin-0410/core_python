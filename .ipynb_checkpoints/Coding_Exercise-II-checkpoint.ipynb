{
 "cells": [
  {
   "cell_type": "code",
   "execution_count": 1,
   "id": "835f9c19",
   "metadata": {},
   "outputs": [
    {
     "name": "stdout",
     "output_type": "stream",
     "text": [
      "True\n",
      "False\n",
      "False\n"
     ]
    }
   ],
   "source": [
    "# 1. Given a list of ints, return True if the array contains a 3 next to a 3 somewhere.\n",
    "#    has_33([1, 3, 3]) → True\n",
    "#    has_33([1, 3, 1, 3]) → False\n",
    "#    has_33([3, 1, 3]) → False\n",
    "\n",
    "def has33(arr_list):\n",
    "    for i in range(len(arr_list)-1):\n",
    "        if arr_list[i: i+2] == [3, 3]:\n",
    "            return True\n",
    "    return False\n",
    "    \n",
    "print(has33([1, 3, 3]))\n",
    "print(has33([1, 3, 1, 3]))\n",
    "print(has33([3, 1, 3]))"
   ]
  },
  {
   "cell_type": "code",
   "execution_count": 2,
   "id": "522bcffe",
   "metadata": {},
   "outputs": [
    {
     "name": "stdout",
     "output_type": "stream",
     "text": [
      "9\n",
      "9\n",
      "14\n"
     ]
    }
   ],
   "source": [
    "# 2. Return the sum of the numbers in the array, except ignore sections of numbers starting with a 6 \n",
    "#     and extending to the next 9 (every 6 will be followed by at least one 9). \n",
    "#     Return 0 for no numbers.\n",
    "\n",
    "# summer_69([1, 3, 5]) --> 9\n",
    "# summer_69([4, 5, 6, 7, 8, 9]) --> 9\n",
    "# summer_69([2, 1, 6, 9, 11]) --> 14\n",
    "\n",
    "\n",
    "def summer_69(arr):\n",
    "    total = 0\n",
    "    add = True\n",
    "    for num in arr:\n",
    "        while add:\n",
    "            if num != 6:\n",
    "                total += num\n",
    "                break\n",
    "            else:\n",
    "                add = False\n",
    "        \n",
    "        while not add:\n",
    "            if num != 9:                \n",
    "                break\n",
    "            else:\n",
    "                add = True\n",
    "                break\n",
    "        \n",
    "    return total \n",
    "\n",
    "\n",
    "print(summer_69([1, 3, 5]))\n",
    "print(summer_69([4, 5, 6, 7, 8, 9]))\n",
    "print(summer_69([2, 1, 6, 9, 11]))"
   ]
  },
  {
   "cell_type": "code",
   "execution_count": 3,
   "id": "b5acb4a0",
   "metadata": {},
   "outputs": [
    {
     "name": "stdout",
     "output_type": "stream",
     "text": [
      "True\n",
      "True\n",
      "False\n"
     ]
    }
   ],
   "source": [
    "# 3. Write a function that takes in a list of integers and returns True if it contains 007 in order\n",
    "# spy_game([1,2,4,0,0,7,5]) --> True\n",
    "# spy_game([1,0,2,4,0,5,7]) --> True\n",
    "# spy_game([1,7,2,0,4,5,0]) --> False\n",
    "\n",
    "def spy_game(nums):\n",
    "    lookup = [0, 0, 7, 'x']\n",
    "    \n",
    "    for num in nums:\n",
    "        if num == lookup[0]:\n",
    "            lookup.pop(0)\n",
    "    \n",
    "    if len(lookup) == 1:\n",
    "        return True\n",
    "    else:\n",
    "        return False\n",
    "    \n",
    "print(spy_game([1,2,4,0,0,7,5]))\n",
    "print(spy_game([1,0,2,4,0,5,7]))\n",
    "print(spy_game([1,7,2,0,4,5,0]))"
   ]
  },
  {
   "cell_type": "code",
   "execution_count": 4,
   "id": "f51bde86",
   "metadata": {},
   "outputs": [
    {
     "name": "stdout",
     "output_type": "stream",
     "text": [
      "[2, 3, 5, 7, 11, 13, 17, 19, 23, 29, 31, 37, 41, 43, 47, 53, 59, 61, 67, 71, 73, 79, 83, 89, 97]\n",
      "25\n"
     ]
    }
   ],
   "source": [
    "# 4. Write a function that returns the number of prime numbers that exist up to and including a given number\n",
    "#     count_primes(100) --> 25\n",
    "\n",
    "from math import sqrt\n",
    "\n",
    "def prime_check(num):\n",
    "    prime_flag = 1\n",
    "    if num>1:\n",
    "        for i in range(2, int(num/2)+1):\n",
    "            if num%i == 0:\n",
    "                prime_flag = 0\n",
    "                break\n",
    "        else:\n",
    "            prime_flag = 1\n",
    "\n",
    "    else:\n",
    "        prime_flag = 0\n",
    "        \n",
    "    return prime_flag\n",
    "\n",
    "        \n",
    "def count_primes(num):\n",
    "    prime_list = []\n",
    "    count = 0\n",
    "    for n in range(2, num+1):\n",
    "        if prime_check(n) == 1:\n",
    "            count = count + 1\n",
    "            prime_list.append(n)\n",
    "    print(prime_list)\n",
    "    print(count)\n",
    "    \n",
    "count_primes(100)"
   ]
  }
 ],
 "metadata": {
  "kernelspec": {
   "display_name": "Python 3",
   "language": "python",
   "name": "python3"
  },
  "language_info": {
   "codemirror_mode": {
    "name": "ipython",
    "version": 3
   },
   "file_extension": ".py",
   "mimetype": "text/x-python",
   "name": "python",
   "nbconvert_exporter": "python",
   "pygments_lexer": "ipython3",
   "version": "3.8.8"
  }
 },
 "nbformat": 4,
 "nbformat_minor": 5
}
